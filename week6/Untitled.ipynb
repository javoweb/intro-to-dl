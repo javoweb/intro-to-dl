{
 "cells": [
  {
   "cell_type": "code",
   "execution_count": 3,
   "metadata": {},
   "outputs": [],
   "source": [
    "import numpy as np\n",
    "x1 = 19\n",
    "x5 = 14\n",
    "x9 = 5\n",
    "x13 = 12\n",
    "x_0 = set([6, 7, 8, 9, 10, 11, 13, 15, 16, 17, 18, 20])"
   ]
  },
  {
   "cell_type": "code",
   "execution_count": 8,
   "metadata": {},
   "outputs": [
    {
     "name": "stdout",
     "output_type": "stream",
     "text": [
      "solved!\n",
      "19 7 18 10 14 16 6 15 5 20 9 13 12 11 17 8\n"
     ]
    }
   ],
   "source": [
    "# iterate over x2\n",
    "for a in x_0:\n",
    "    x_2 = x_0.copy()\n",
    "    x_2.remove(a)\n",
    "    x2 = a\n",
    "    #iterate over x3\n",
    "    for b in x_2:\n",
    "        x3 = b\n",
    "        x_3 = x_2.copy()\n",
    "        x_3.remove(b)\n",
    "        #iterate over x4\n",
    "        for c in x_3:\n",
    "            x4 = c\n",
    "            x_4 = x_3.copy()\n",
    "            x_4.remove(c)\n",
    "            #iterate over x6 if previous values were correct\n",
    "            if (x1 + x2 + x4 + x5) == 50:\n",
    "                for d in x_4:\n",
    "                    x6 = d\n",
    "                    x_6 = x_4.copy()\n",
    "                    x_6.remove(d)\n",
    "                    #iterate over x7\n",
    "                    for e in x_6:\n",
    "                        x7 = e\n",
    "                        x_7 = x_6.copy()\n",
    "                        x_7.remove(e)\n",
    "                        # iterate over x8 if previous values were correct\n",
    "                        if (x3 + x4 + x6 + x7) == 50:\n",
    "                            for f in x_7:\n",
    "                                x8 = f\n",
    "                                x_8 = x_7.copy()\n",
    "                                x_8.remove(f)\n",
    "                                #iterate over x10 if previous values were correct\n",
    "                                if (x5 + x6 + x8 + x9) == 50:\n",
    "                                    for g in x_8:\n",
    "                                        x10 = g\n",
    "                                        x_10 = x_8.copy()\n",
    "                                        x_10.remove(g)\n",
    "                                        #iterate over x11\n",
    "                                        for h in x_10:\n",
    "                                            x11 = h\n",
    "                                            x_11 = x_10.copy()\n",
    "                                            x_11.remove(h)\n",
    "                                            #iterate over x12 if previous values were correct\n",
    "                                            if (x7 + x8 + x10 + x11) == 50:\n",
    "                                                for i in x_11:\n",
    "                                                    x12 = i\n",
    "                                                    x_12 = x_11.copy()\n",
    "                                                    x_12.remove(i)\n",
    "                                                    #iterate over x14 if previous values were correct\n",
    "                                                    if (x9 + x10 + x12 + x13) == 50:\n",
    "                                                        for j in x_12:\n",
    "                                                            x14 = j\n",
    "                                                            x_14 = x_12.copy()\n",
    "                                                            x_14.remove(j)\n",
    "                                                            #iterate over x15\n",
    "                                                            for k in x_14:\n",
    "                                                                x15 = k\n",
    "                                                                x_15 = x_14.copy()\n",
    "                                                                x_15.remove(k)\n",
    "                                                                for l in x_15:\n",
    "                                                                    x16 = l\n",
    "                                                                    if (x11 + x12 + x14 + x15) == 50:\n",
    "                                                                        if (x13 + x14 + x16 + x1) == 50:\n",
    "                                                                            print('solved!')\n",
    "                                                                            print(x1, x2, x3, x4, x5, x6, x7, x8, x9, x10, x11, x12, x13, x14, x15, x16)\n",
    "                                                                            "
   ]
  }
 ],
 "metadata": {
  "kernelspec": {
   "display_name": "Python 3",
   "language": "python",
   "name": "python3"
  },
  "language_info": {
   "codemirror_mode": {
    "name": "ipython",
    "version": 3
   },
   "file_extension": ".py",
   "mimetype": "text/x-python",
   "name": "python",
   "nbconvert_exporter": "python",
   "pygments_lexer": "ipython3",
   "version": "3.6.10"
  }
 },
 "nbformat": 4,
 "nbformat_minor": 2
}
